{
  "nbformat": 4,
  "nbformat_minor": 0,
  "metadata": {
    "colab": {
      "name": "Pre Trained Embedding layer RNN.ipynb",
      "provenance": [],
      "collapsed_sections": [],
      "authorship_tag": "ABX9TyOTnPzsAbTqM085pCoQzpqW",
      "include_colab_link": true
    },
    "kernelspec": {
      "name": "python3",
      "display_name": "Python 3"
    }
  },
  "cells": [
    {
      "cell_type": "markdown",
      "metadata": {
        "id": "view-in-github",
        "colab_type": "text"
      },
      "source": [
        "<a href=\"https://colab.research.google.com/github/SANAMAREEN/taskrepositery/blob/master/Pre_Trained_Embedding_layer_RNN.ipynb\" target=\"_parent\"><img src=\"https://colab.research.google.com/assets/colab-badge.svg\" alt=\"Open In Colab\"/></a>"
      ]
    },
    {
      "cell_type": "code",
      "metadata": {
        "id": "vAZqoNGVU6zS",
        "colab_type": "code",
        "colab": {}
      },
      "source": [
        "from google.colab import drive"
      ],
      "execution_count": 2,
      "outputs": []
    },
    {
      "cell_type": "code",
      "metadata": {
        "id": "nizPZjOoVkCc",
        "colab_type": "code",
        "colab": {
          "base_uri": "https://localhost:8080/",
          "height": 120
        },
        "outputId": "fcbdc2a1-fa84-4bbe-8a01-389e7660e489"
      },
      "source": [
        "drive.mount(\"/content/gdrive\")"
      ],
      "execution_count": 3,
      "outputs": [
        {
          "output_type": "stream",
          "text": [
            "Go to this URL in a browser: https://accounts.google.com/o/oauth2/auth?client_id=947318989803-6bn6qk8qdgf4n4g3pfee6491hc0brc4i.apps.googleusercontent.com&redirect_uri=urn%3aietf%3awg%3aoauth%3a2.0%3aoob&response_type=code&scope=email%20https%3a%2f%2fwww.googleapis.com%2fauth%2fdocs.test%20https%3a%2f%2fwww.googleapis.com%2fauth%2fdrive%20https%3a%2f%2fwww.googleapis.com%2fauth%2fdrive.photos.readonly%20https%3a%2f%2fwww.googleapis.com%2fauth%2fpeopleapi.readonly\n",
            "\n",
            "Enter your authorization code:\n",
            "··········\n",
            "Mounted at /content/gdrive\n"
          ],
          "name": "stdout"
        }
      ]
    },
    {
      "cell_type": "code",
      "metadata": {
        "id": "b-c-ceLzWrs9",
        "colab_type": "code",
        "colab": {}
      },
      "source": [
        "import os\n",
        "imdb_dir = '/content/gdrive/My Drive/aclImdb/train'\n",
        "train_dir = \"/content/gdrive/My Drive/aclImdb/train\"\n",
        "labels = []\n",
        "texts = []\n",
        "for label_type in ['neg', 'pos']:\n",
        "  dir_name = os.path.join(train_dir, label_type)\n",
        "  for fname in os.listdir(dir_name):\n",
        "    if fname[-4:] == '.txt':\n",
        "      f = open(os.path.join(dir_name, fname))\n",
        "      texts.append(f.read())\n",
        "      f.close()\n",
        "      if label_type == 'neg':\n",
        "        labels.append(0)\n",
        "      else:\n",
        "        labels.append(1)\n"
      ],
      "execution_count": 38,
      "outputs": []
    },
    {
      "cell_type": "code",
      "metadata": {
        "id": "M5iSjgexfTwT",
        "colab_type": "code",
        "colab": {}
      },
      "source": [
        "from keras.preprocessing.text import Tokenizer\n",
        "from keras.preprocessing.sequence import pad_sequences\n",
        "import numpy as np"
      ],
      "execution_count": 39,
      "outputs": []
    },
    {
      "cell_type": "code",
      "metadata": {
        "id": "eyKXfUyLmsvb",
        "colab_type": "code",
        "colab": {}
      },
      "source": [
        ""
      ],
      "execution_count": 39,
      "outputs": []
    },
    {
      "cell_type": "code",
      "metadata": {
        "id": "w_cKhg_dh7vE",
        "colab_type": "code",
        "colab": {}
      },
      "source": [
        "maxlen = 100\n",
        "training_samples = 200\n",
        "validation_samples = 10000\n",
        "max_words = 10000"
      ],
      "execution_count": 40,
      "outputs": []
    },
    {
      "cell_type": "code",
      "metadata": {
        "id": "RhrBBS1ph9yq",
        "colab_type": "code",
        "colab": {
          "base_uri": "https://localhost:8080/",
          "height": 67
        },
        "outputId": "ecbea858-c1a8-4f1f-a128-da7fe555814f"
      },
      "source": [
        "tokenizer = Tokenizer(num_words=max_words)\n",
        "tokenizer.fit_on_texts(texts)\n",
        "sequences = tokenizer.texts_to_sequences(texts)\n",
        "word_index = tokenizer.word_index\n",
        "print('Found %s unique tokens.' % len(word_index))\n",
        "data = pad_sequences(sequences, maxlen=maxlen)\n",
        "labels = np.asarray(labels)\n",
        "print('Shape of data tensor:', data.shape)\n",
        "print('Shape of label tensor:', labels.shape)\n",
        "indices = np.arange(data.shape[0])\n",
        "np.random.shuffle(indices)\n",
        "data = data[indices]\n",
        "labels = labels[indices]\n",
        "x_train = data[:training_samples]\n",
        "y_train = labels[:training_samples]\n",
        "x_val = data[training_samples: training_samples + validation_samples]\n",
        "y_val = labels[training_samples: training_samples + validation_samples]"
      ],
      "execution_count": 41,
      "outputs": [
        {
          "output_type": "stream",
          "text": [
            "Found 35487 unique tokens.\n",
            "Shape of data tensor: (3756, 100)\n",
            "Shape of label tensor: (3756,)\n"
          ],
          "name": "stdout"
        }
      ]
    },
    {
      "cell_type": "code",
      "metadata": {
        "id": "rRpQlC-wiLOK",
        "colab_type": "code",
        "colab": {
          "base_uri": "https://localhost:8080/",
          "height": 33
        },
        "outputId": "2a060175-d434-4e37-b6c4-4b441370623f"
      },
      "source": [
        "glove_dir = '/content/gdrive/My Drive/Colab Notebooks'\n",
        "embeddings_index = {}\n",
        "f = open(os.path.join(glove_dir, 'glove.6B.100d.txt'))\n",
        "for line in f:\n",
        "  values = line.split()\n",
        "  word = values[0]\n",
        "  coefs = np.asarray(values[1:], dtype='float32')\n",
        "  embeddings_index[word] = coefs\n",
        "f.close()\n",
        "print('Found %s word vectors.' % len(embeddings_index))"
      ],
      "execution_count": 42,
      "outputs": [
        {
          "output_type": "stream",
          "text": [
            "Found 400000 word vectors.\n"
          ],
          "name": "stdout"
        }
      ]
    },
    {
      "cell_type": "code",
      "metadata": {
        "id": "x8E4x93XoQAy",
        "colab_type": "code",
        "colab": {}
      },
      "source": [
        "embedding_dim = 100\n",
        "embedding_matrix = np.zeros((max_words, embedding_dim))\n",
        "for word, i in word_index.items():\n",
        "  if i < max_words:\n",
        "    embedding_vector = embeddings_index.get(word)\n",
        "    if embedding_vector is not None:\n",
        "      embedding_matrix[i] = embedding_vector"
      ],
      "execution_count": 43,
      "outputs": []
    },
    {
      "cell_type": "code",
      "metadata": {
        "id": "sTr_Cmxloebw",
        "colab_type": "code",
        "colab": {
          "base_uri": "https://localhost:8080/",
          "height": 284
        },
        "outputId": "321a7921-97d1-407a-e285-9d7b2e3c05a1"
      },
      "source": [
        "from keras.models import Sequential\n",
        "from keras.layers import Embedding, Flatten, Dense\n",
        "model1 = Sequential()\n",
        "model1.add(Embedding(max_words, embedding_dim, input_length=maxlen))\n",
        "model1.add(Flatten())\n",
        "model1.add(Dense(32, activation='relu'))\n",
        "model1.add(Dense(1, activation='sigmoid'))\n",
        "model1.summary()"
      ],
      "execution_count": 44,
      "outputs": [
        {
          "output_type": "stream",
          "text": [
            "Model: \"sequential_7\"\n",
            "_________________________________________________________________\n",
            "Layer (type)                 Output Shape              Param #   \n",
            "=================================================================\n",
            "embedding_7 (Embedding)      (None, 100, 100)          1000000   \n",
            "_________________________________________________________________\n",
            "flatten_7 (Flatten)          (None, 10000)             0         \n",
            "_________________________________________________________________\n",
            "dense_13 (Dense)             (None, 32)                320032    \n",
            "_________________________________________________________________\n",
            "dense_14 (Dense)             (None, 1)                 33        \n",
            "=================================================================\n",
            "Total params: 1,320,065\n",
            "Trainable params: 1,320,065\n",
            "Non-trainable params: 0\n",
            "_________________________________________________________________\n"
          ],
          "name": "stdout"
        }
      ]
    },
    {
      "cell_type": "code",
      "metadata": {
        "id": "oS5m0ZisoiKn",
        "colab_type": "code",
        "colab": {}
      },
      "source": [
        "model1.layers[0].set_weights([embedding_matrix])\n",
        "model1.layers[0].trainable = False"
      ],
      "execution_count": 45,
      "outputs": []
    },
    {
      "cell_type": "code",
      "metadata": {
        "id": "4itR9eBFolvo",
        "colab_type": "code",
        "colab": {
          "base_uri": "https://localhost:8080/",
          "height": 368
        },
        "outputId": "876a058c-f6b6-4f68-cf51-5c765109fcc2"
      },
      "source": [
        "model1.compile(optimizer='rmsprop',\n",
        "loss='binary_crossentropy',\n",
        "metrics=['acc'])\n",
        "history = model.fit(x_train, y_train,\n",
        "epochs=10,\n",
        "batch_size=32,\n",
        "validation_data=(x_val, y_val))\n",
        "model1.save_weights('pre_trained_glove_model.h5')"
      ],
      "execution_count": 46,
      "outputs": [
        {
          "output_type": "stream",
          "text": [
            "Train on 200 samples, validate on 3556 samples\n",
            "Epoch 1/10\n",
            "200/200 [==============================] - 0s 2ms/step - loss: 2.8499e-04 - acc: 1.0000 - val_loss: 1.7891e-04 - val_acc: 1.0000\n",
            "Epoch 2/10\n",
            "200/200 [==============================] - 0s 1ms/step - loss: 1.1265e-04 - acc: 1.0000 - val_loss: 1.0474e-04 - val_acc: 1.0000\n",
            "Epoch 3/10\n",
            "200/200 [==============================] - 0s 1ms/step - loss: 6.1545e-05 - acc: 1.0000 - val_loss: 6.7424e-05 - val_acc: 1.0000\n",
            "Epoch 4/10\n",
            "200/200 [==============================] - 0s 1ms/step - loss: 3.7070e-05 - acc: 1.0000 - val_loss: 4.4523e-05 - val_acc: 1.0000\n",
            "Epoch 5/10\n",
            "200/200 [==============================] - 0s 1ms/step - loss: 2.3031e-05 - acc: 1.0000 - val_loss: 3.0394e-05 - val_acc: 1.0000\n",
            "Epoch 6/10\n",
            "200/200 [==============================] - 0s 1ms/step - loss: 1.4858e-05 - acc: 1.0000 - val_loss: 2.0897e-05 - val_acc: 1.0000\n",
            "Epoch 7/10\n",
            "200/200 [==============================] - 0s 1ms/step - loss: 9.6813e-06 - acc: 1.0000 - val_loss: 1.4689e-05 - val_acc: 1.0000\n",
            "Epoch 8/10\n",
            "200/200 [==============================] - 0s 1ms/step - loss: 6.4695e-06 - acc: 1.0000 - val_loss: 1.0390e-05 - val_acc: 1.0000\n",
            "Epoch 9/10\n",
            "200/200 [==============================] - 0s 1ms/step - loss: 4.3609e-06 - acc: 1.0000 - val_loss: 7.4040e-06 - val_acc: 1.0000\n",
            "Epoch 10/10\n",
            "200/200 [==============================] - 0s 1ms/step - loss: 2.9677e-06 - acc: 1.0000 - val_loss: 5.3847e-06 - val_acc: 1.0000\n"
          ],
          "name": "stdout"
        }
      ]
    },
    {
      "cell_type": "code",
      "metadata": {
        "id": "3qQLIZlQooww",
        "colab_type": "code",
        "colab": {
          "base_uri": "https://localhost:8080/",
          "height": 545
        },
        "outputId": "7b61fb80-33cc-4f9c-dcbb-ab0781a0b668"
      },
      "source": [
        "import matplotlib.pyplot as plt\n",
        "acc = history.history['acc']\n",
        "val_acc = history.history['val_acc']\n",
        "loss = history.history['loss']\n",
        "val_loss = history.history['val_loss']\n",
        "epochs = range(1, len(acc) + 1)\n",
        "plt.plot(epochs, acc, 'bo', label='Training acc')\n",
        "plt.plot(epochs, val_acc, 'b', label='Validation acc')\n",
        "plt.title('Training and validation accuracy')\n",
        "plt.legend()\n",
        "plt.figure()\n",
        "plt.plot(epochs, loss, 'bo', label='Training loss')\n",
        "plt.plot(epochs, val_loss, 'b', label='Validation loss')\n",
        "plt.title('Training and validation loss')\n",
        "plt.legend()\n",
        "plt.show()"
      ],
      "execution_count": 47,
      "outputs": [
        {
          "output_type": "display_data",
          "data": {
            "image/png": "[encoded data removed]",
            "text/plain": [
              "<Figure size 432x288 with 1 Axes>"
            ]
          },
          "metadata": {
            "tags": [],
            "needs_background": "light"
          }
        },
        {
          "output_type": "display_data",
          "data": {
            "image/png": "[encoded data removed]",
            "text/plain": [
              "<Figure size 432x288 with 1 Axes>"
            ]
          },
          "metadata": {
            "tags": [],
            "needs_background": "light"
          }
        }
      ]
    },
    {
      "cell_type": "code",
      "metadata": {
        "id": "g7EFEiE1jAxJ",
        "colab_type": "code",
        "colab": {
          "base_uri": "https://localhost:8080/",
          "height": 689
        },
        "outputId": "416e74ad-0d54-4410-f34f-4782e721fd42"
      },
      "source": [
        "#training without pretrained layer\n",
        "from keras.models import Sequential\n",
        "from keras.layers import Embedding, Flatten, Dense\n",
        "model = Sequential()\n",
        "model.add(Embedding(max_words, embedding_dim, input_length=maxlen))\n",
        "model.add(Flatten())\n",
        "model.add(Dense(32, activation='relu'))\n",
        "model.add(Dense(1, activation='sigmoid'))\n",
        "model.summary()\n",
        "model.compile(optimizer='rmsprop',\n",
        "loss='binary_crossentropy',\n",
        "metrics=['acc'])\n",
        "history = model.fit(x_train, y_train,\n",
        "epochs=10,\n",
        "batch_size=32,\n",
        "validation_data=(x_val, y_val))"
      ],
      "execution_count": 48,
      "outputs": [
        {
          "output_type": "stream",
          "text": [
            "Model: \"sequential_8\"\n",
            "_________________________________________________________________\n",
            "Layer (type)                 Output Shape              Param #   \n",
            "=================================================================\n",
            "embedding_8 (Embedding)      (None, 100, 100)          1000000   \n",
            "_________________________________________________________________\n",
            "flatten_8 (Flatten)          (None, 10000)             0         \n",
            "_________________________________________________________________\n",
            "dense_15 (Dense)             (None, 32)                320032    \n",
            "_________________________________________________________________\n",
            "dense_16 (Dense)             (None, 1)                 33        \n",
            "=================================================================\n",
            "Total params: 1,320,065\n",
            "Trainable params: 1,320,065\n",
            "Non-trainable params: 0\n",
            "_________________________________________________________________\n"
          ],
          "name": "stdout"
        },
        {
          "output_type": "stream",
          "text": [
            "/usr/local/lib/python3.6/dist-packages/tensorflow/python/framework/indexed_slices.py:434: UserWarning: Converting sparse IndexedSlices to a dense Tensor of unknown shape. This may consume a large amount of memory.\n",
            "  \"Converting sparse IndexedSlices to a dense Tensor of unknown shape. \"\n"
          ],
          "name": "stderr"
        },
        {
          "output_type": "stream",
          "text": [
            "Train on 200 samples, validate on 3556 samples\n",
            "Epoch 1/10\n",
            "200/200 [==============================] - 0s 2ms/step - loss: 0.4398 - acc: 0.8850 - val_loss: 0.0875 - val_acc: 1.0000\n",
            "Epoch 2/10\n",
            "200/200 [==============================] - 0s 1ms/step - loss: 0.0369 - acc: 1.0000 - val_loss: 0.0239 - val_acc: 1.0000\n",
            "Epoch 3/10\n",
            "200/200 [==============================] - 0s 1ms/step - loss: 0.0104 - acc: 1.0000 - val_loss: 0.0107 - val_acc: 1.0000\n",
            "Epoch 4/10\n",
            "200/200 [==============================] - 0s 1ms/step - loss: 0.0046 - acc: 1.0000 - val_loss: 0.0057 - val_acc: 1.0000\n",
            "Epoch 5/10\n",
            "200/200 [==============================] - 0s 1ms/step - loss: 0.0024 - acc: 1.0000 - val_loss: 0.0033 - val_acc: 1.0000\n",
            "Epoch 6/10\n",
            "200/200 [==============================] - 0s 1ms/step - loss: 0.0013 - acc: 1.0000 - val_loss: 0.0020 - val_acc: 1.0000\n",
            "Epoch 7/10\n",
            "200/200 [==============================] - 0s 1ms/step - loss: 7.7581e-04 - acc: 1.0000 - val_loss: 0.0013 - val_acc: 1.0000\n",
            "Epoch 8/10\n",
            "200/200 [==============================] - 0s 1ms/step - loss: 4.6699e-04 - acc: 1.0000 - val_loss: 8.2557e-04 - val_acc: 1.0000\n",
            "Epoch 9/10\n",
            "200/200 [==============================] - 0s 1ms/step - loss: 2.8963e-04 - acc: 1.0000 - val_loss: 5.4025e-04 - val_acc: 1.0000\n",
            "Epoch 10/10\n",
            "200/200 [==============================] - 0s 1ms/step - loss: 1.8171e-04 - acc: 1.0000 - val_loss: 3.6420e-04 - val_acc: 1.0000\n"
          ],
          "name": "stdout"
        }
      ]
    },
    {
      "cell_type": "code",
      "metadata": {
        "id": "wEvqQJy-knOh",
        "colab_type": "code",
        "colab": {}
      },
      "source": [
        ""
      ],
      "execution_count": null,
      "outputs": []
    }
  ]
}